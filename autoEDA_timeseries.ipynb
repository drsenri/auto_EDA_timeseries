{
 "cells": [
  {
   "cell_type": "markdown",
   "metadata": {},
   "source": [
    "## About\n",
    "\n",
    "`auto EDA for time-series` は探索的データ分析 (EDA) を省力化するためのツールです\n",
    "\n",
    "できること\n",
    "\n",
    "以下の一連の手続きをJupyter Notebook上で手早く分析することができます\n",
    "\n",
    "- データの初回分析としての可視化\n",
    "- 可視化を受けてのデータクレンジング\n",
    "- クレンジング後の結果確認といった一連の手続き\n",
    "\n",
    "\n",
    "    Environment: Python3.6 (Anaconda)\n",
    "    Requirement (python): numpy, pandas, matplotlib, seaborn, scikit-learn\n",
    "    Requirement (jupyter): jupyter_contrib_nbextensions (Table of Content)\n",
    "    Author: FRI) H.Shibata\n",
    "    Last update: 2018.10.16"
   ]
  },
  {
   "cell_type": "markdown",
   "metadata": {},
   "source": [
    "## How to use\n",
    "\n",
    "1. Modify cells in data preparation section (path of `read_csv()`, name of `time_column` and `obj_column`)\n",
    "2. Execute `Cell -> Run All`\n",
    "3. Execite `File -> Download as -> HTML`"
   ]
  },
  {
   "cell_type": "markdown",
   "metadata": {},
   "source": [
    "## Preparation"
   ]
  },
  {
   "cell_type": "code",
   "execution_count": null,
   "metadata": {},
   "outputs": [],
   "source": [
    "import numpy as np\n",
    "import pandas as pd\n",
    "import matplotlib.pyplot as plt\n",
    "import seaborn as sns\n",
    "import os\n",
    "from mylib.my_module import *\n",
    "from sklearn.decomposition import PCA\n",
    "from sklearn.manifold import TSNE\n",
    "\n",
    "%matplotlib inline\n",
    "pd.set_option('display.max_columns', None)\n",
    "pd.set_option('display.max_rows', None)\n",
    "pd.options.display.notebook_repr_html = True\n",
    "pd.options.display.precision = 3"
   ]
  },
  {
   "cell_type": "markdown",
   "metadata": {},
   "source": [
    "## Data preparation"
   ]
  },
  {
   "cell_type": "markdown",
   "metadata": {},
   "source": [
    "### Import\n",
    "\n",
    "    デフォルトではpd.read_csv()をするだけ\n",
    "    オプションが必要な場合、セル内のコードを変更すること"
   ]
  },
  {
   "cell_type": "code",
   "execution_count": null,
   "metadata": {
    "hide_input/main": true
   },
   "outputs": [],
   "source": [
    "# change args of read_csv depending on your data\n",
    "df = pd.read_csv(\"./data/ozone.csv\", na_values=\"?\")\n",
    "display(df.shape)\n",
    "df.head()"
   ]
  },
  {
   "cell_type": "markdown",
   "metadata": {},
   "source": [
    "### Define column\n",
    "\n",
    "    目的変数および時系列参照用のカラムの定義\n",
    "    データに応じてカラム名を変更すること"
   ]
  },
  {
   "cell_type": "code",
   "execution_count": null,
   "metadata": {},
   "outputs": [],
   "source": [
    "obj_column = \"Ozone\"\n",
    "time_column = \"Date\"\n",
    "df[[time_column]] = pd.to_datetime(df[time_column]) # 時系列のカラムが日時型のデータの場合にコメントアウト"
   ]
  },
  {
   "cell_type": "markdown",
   "metadata": {},
   "source": [
    "### Cleansing\n",
    "\n",
    "    必要に応じてデータ加工スクリプトを以下のセルに書く\n",
    "    \n",
    "    例\n",
    "    - 基礎分析に不要なカラムの除外 (ID列とか)\n",
    "    - 0/1や1~5のintなどのデータを数値からカテゴリに変換する (df[col]=df[col].astype(\"object\"))\n",
    "    - 以降の分析結果をフィードバックして再分析したい場合"
   ]
  },
  {
   "cell_type": "code",
   "execution_count": null,
   "metadata": {},
   "outputs": [],
   "source": [
    "#"
   ]
  },
  {
   "cell_type": "markdown",
   "metadata": {},
   "source": [
    "## Chronological change\n",
    "  \n",
    "    データの時系列的な変化の可視化\n",
    "    同じ時点のデータが複数ある場合、平均値をプロットする"
   ]
  },
  {
   "cell_type": "code",
   "execution_count": null,
   "metadata": {
    "code_folding": [
     3
    ]
   },
   "outputs": [],
   "source": [
    "col_num = df.select_dtypes(\"number\").columns.ravel()\n",
    "outdir = \"output/fig/timeseries\"\n",
    "mkdir(outdir)\n",
    "for i, name in enumerate(col_num):\n",
    "    fig = df.groupby(time_column).agg({name:\"mean\"}).plot(y=name, kind=\"line\", title=name)\n",
    "    plt.savefig(outdir+\"/\"+name+\".png\")\n",
    "    plt.show()\n",
    "    plt.close('all')"
   ]
  },
  {
   "cell_type": "markdown",
   "metadata": {},
   "source": [
    "## Basic stats summary\n",
    "  \n",
    "    各カラムの基本統計量\n",
    "    共通：値の数、NA数\n",
    "    時間：最初と最後\n",
    "    数値：平均、標準偏差、最小値、25%ile, ..., 最大値\n",
    "    カテゴリ：最頻値、最頻値のカウント"
   ]
  },
  {
   "cell_type": "code",
   "execution_count": null,
   "metadata": {},
   "outputs": [],
   "source": [
    "desc = df.describe(include='all')\n",
    "desc.loc[\"NA_count\"] = (df.isna().sum())\n",
    "desc = desc.T\n",
    "outdir = \"output/csv\"\n",
    "mkdir(outdir)\n",
    "desc.to_csv(outdir+\"/stats_summary.csv\")\n",
    "desc"
   ]
  },
  {
   "cell_type": "markdown",
   "metadata": {},
   "source": [
    "## Distribution of each variable"
   ]
  },
  {
   "cell_type": "markdown",
   "metadata": {},
   "source": [
    "### Numeric variables\n",
    "\n",
    "    数値データの分布"
   ]
  },
  {
   "cell_type": "code",
   "execution_count": null,
   "metadata": {
    "code_folding": [
     3
    ]
   },
   "outputs": [],
   "source": [
    "col_num = df.select_dtypes(\"number\").columns.ravel()\n",
    "outdir = \"output/fig/hist\"\n",
    "mkdir(outdir)\n",
    "for name in col_num:\n",
    "    fig = df[name].plot(\"hist\", title=name)\n",
    "    plt.savefig(outdir+\"/\"+name+\".png\")\n",
    "    plt.show()\n",
    "    plt.close('all')"
   ]
  },
  {
   "cell_type": "markdown",
   "metadata": {},
   "source": [
    "### Categorical variables\n",
    "\n",
    "    カテゴリカルデータの分布"
   ]
  },
  {
   "cell_type": "code",
   "execution_count": null,
   "metadata": {
    "code_folding": [
     3
    ]
   },
   "outputs": [],
   "source": [
    "col_cate = df.select_dtypes(\"object\").columns.ravel()\n",
    "outdir = \"output/fig/categorical\"\n",
    "mkdir(outdir)\n",
    "for i, name in enumerate(col_cate):\n",
    "    fig = df[name].value_counts().plot(\"bar\", title=name)\n",
    "    plt.savefig(outdir+\"/\"+name+\".png\")\n",
    "    plt.show()\n",
    "    plt.close('all')"
   ]
  },
  {
   "cell_type": "markdown",
   "metadata": {},
   "source": [
    "## Correlation among numeric variables\n",
    "\n",
    "    変数間の相関を可視化する"
   ]
  },
  {
   "cell_type": "markdown",
   "metadata": {},
   "source": [
    "### Correlation matrix\n",
    "\n",
    "    ピアソンの相関係数の行列"
   ]
  },
  {
   "cell_type": "code",
   "execution_count": null,
   "metadata": {},
   "outputs": [],
   "source": [
    "num_col = df.select_dtypes(\"number\").columns.ravel()\n",
    "cor = df.loc[:, num_col].corr()\n",
    "display(\"Corelation matrix\")\n",
    "display(cor)\n",
    "outdir = \"output/csv\"\n",
    "cor.to_csv(outdir+\"/corr.csv\")"
   ]
  },
  {
   "cell_type": "markdown",
   "metadata": {},
   "source": [
    "### Corelation heatmap\n",
    "\n",
    "    相関行列のヒートマップ表現"
   ]
  },
  {
   "cell_type": "code",
   "execution_count": null,
   "metadata": {},
   "outputs": [],
   "source": [
    "display(\"Corelation heatmap\")\n",
    "plt.figure(figsize=(24, 24))\n",
    "sns_plot = sns.heatmap(cor)\n",
    "outdir = \"output/fig\"\n",
    "plt.savefig(outdir+\"/corplot.png\")"
   ]
  },
  {
   "cell_type": "markdown",
   "metadata": {},
   "source": [
    "### Variable pairs which is highly corelated\n",
    "\n",
    "    相関係数の高い変数の組の一覧 (デフォルトは0.95。必要に応じてセル内の値を変更すること)"
   ]
  },
  {
   "cell_type": "code",
   "execution_count": null,
   "metadata": {},
   "outputs": [],
   "source": [
    "cor_threshold = 0.95\n",
    "cor_tri = pd.DataFrame(np.triu(cor.values, k=1), index=num_col, columns=num_col)\n",
    "corpair = pd.DataFrame({\n",
    "    \"var1\": cor_tri.columns.ravel()[np.where(cor_tri.values > cor_threshold)[0]],\n",
    "    \"var2\": cor_tri.columns.ravel()[np.where(cor_tri.values > cor_threshold)[1]],\n",
    "    \"cor\": cor_tri.values[np.where(cor_tri.values > cor_threshold)],\n",
    "}, columns = [\"var1\", \"var2\", \"cor\"]\n",
    ")\n",
    "display(corpair)\n",
    "outdir = \"output/csv\"\n",
    "corpair.to_csv(outdir+\"/pair_cor_\"+str(cor_threshold)+\".csv\", index=False)"
   ]
  },
  {
   "cell_type": "markdown",
   "metadata": {},
   "source": [
    "## Data topology\n",
    "\n",
    "    データを2次元空間にプロットし、データのばらつきを可視化する\n",
    "    カテゴリカルなデータはダミー展開する (極端にカテゴリ数が多い場合、時間がかかる)\n",
    "    欠損値は列方向で中央値補完 (全行欠損の列はまるごと削除)"
   ]
  },
  {
   "cell_type": "markdown",
   "metadata": {},
   "source": [
    "### PCA\n",
    "\n",
    "    PCAの上位2成分による次元圧縮"
   ]
  },
  {
   "cell_type": "code",
   "execution_count": null,
   "metadata": {},
   "outputs": [],
   "source": [
    "X = pd.get_dummies(df.fillna(df.mean()).dropna(axis=1).drop([obj_column, time_column], axis=1)).values\n",
    "y = df[obj_column].values\n",
    "pca_res = PCA(n_components=2).fit_transform(X)\n",
    "sns.scatterplot(x=pca_res[:,0], y=pca_res[:,1], hue=y)\n",
    "outdir = \"output/fig\"\n",
    "plt.savefig(outdir+\"/pca.png\")"
   ]
  },
  {
   "cell_type": "markdown",
   "metadata": {},
   "source": [
    "### t-SNE\n",
    "\n",
    "    非線形変換（データ点同士の類似度を保つ次元削減）による次元圧縮\n",
    "    レコード数が多いと計算時間がかかるので、サクッと見たい場合は削除すること\n",
    "    (目安として10万行200列で2h程度、20万行100列で8h程度)"
   ]
  },
  {
   "cell_type": "code",
   "execution_count": null,
   "metadata": {},
   "outputs": [],
   "source": [
    "tsne_res = TSNE(n_components=2, random_state=0).fit_transform(X)\n",
    "sns.scatterplot(x=tsne_res[:,0], y=tsne_res[:,1], hue=y)\n",
    "outdir = \"output/fig\"\n",
    "plt.savefig(outdir+\"/tsne.png\")"
   ]
  }
 ],
 "metadata": {
  "celltoolbar": "Raw Cell Format",
  "kernelspec": {
   "display_name": "Python 3",
   "language": "python",
   "name": "python3"
  },
  "language_info": {
   "codemirror_mode": {
    "name": "ipython",
    "version": 3
   },
   "file_extension": ".py",
   "mimetype": "text/x-python",
   "name": "python",
   "nbconvert_exporter": "python",
   "pygments_lexer": "ipython3",
   "version": "3.6.4"
  },
  "toc": {
   "base_numbering": 1,
   "nav_menu": {
    "height": "297px",
    "width": "226px"
   },
   "number_sections": true,
   "sideBar": true,
   "skip_h1_title": false,
   "title_cell": "Table of Contents",
   "title_sidebar": "Contents",
   "toc_cell": false,
   "toc_position": {},
   "toc_section_display": true,
   "toc_window_display": false
  }
 },
 "nbformat": 4,
 "nbformat_minor": 2
}
